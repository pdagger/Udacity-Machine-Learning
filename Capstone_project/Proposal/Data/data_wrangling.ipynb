{
 "cells": [
  {
   "cell_type": "code",
   "execution_count": 1,
   "metadata": {},
   "outputs": [],
   "source": [
    "import pandas as pd\n",
    "import numpy as np\n",
    "import matplotlib.pyplot as plt\n",
    "import seaborn as sns\n",
    "from urllib.request import urlretrieve\n",
    "#import xlrd\n",
    "import re"
   ]
  },
  {
   "cell_type": "code",
   "execution_count": 2,
   "metadata": {},
   "outputs": [],
   "source": [
    "# #Download data from the source web page\n",
    "# url = 'https://www.foreignlaborcert.doleta.gov/pdf/PerformanceData/2017/H-1B_Disclosure_Data_FY17.xlsx'\n",
    "# urlretrieve(url, './Data/H-1B_Disclosure_Data_FY17.xlsx')"
   ]
  },
  {
   "cell_type": "code",
   "execution_count": 3,
   "metadata": {},
   "outputs": [],
   "source": [
    "#Open excel data file\n",
    "file = './Data/H-1B_Disclosure_Data_FY17_.xlsx'\n",
    "data = pd.ExcelFile(file)"
   ]
  },
  {
   "cell_type": "code",
   "execution_count": 4,
   "metadata": {},
   "outputs": [
    {
     "name": "stdout",
     "output_type": "stream",
     "text": [
      "['PDD_main']\n"
     ]
    }
   ],
   "source": [
    "#Check number of cheets in excel file\n",
    "print(data.sheet_names)"
   ]
  },
  {
   "cell_type": "code",
   "execution_count": 5,
   "metadata": {},
   "outputs": [],
   "source": [
    "#Read data frame from excel sheet\n",
    "df1 = data.parse('PDD_main')"
   ]
  },
  {
   "cell_type": "code",
   "execution_count": 6,
   "metadata": {},
   "outputs": [
    {
     "data": {
      "text/plain": [
       "Index(['CASE_NUMBER', 'CASE_STATUS', 'CASE_SUBMITTED', 'DECISION_DATE',\n",
       "       'VISA_CLASS', 'EMPLOYMENT_START_DATE', 'EMPLOYMENT_END_DATE',\n",
       "       'EMPLOYER_NAME', 'EMPLOYER_BUSINESS_DBA', 'EMPLOYER_ADDRESS',\n",
       "       'EMPLOYER_CITY', 'EMPLOYER_STATE', 'EMPLOYER_POSTAL_CODE',\n",
       "       'EMPLOYER_COUNTRY', 'EMPLOYER_PROVINCE', 'EMPLOYER_PHONE',\n",
       "       'EMPLOYER_PHONE_EXT', 'AGENT_REPRESENTING_EMPLOYER',\n",
       "       'AGENT_ATTORNEY_NAME', 'AGENT_ATTORNEY_CITY', 'AGENT_ATTORNEY_STATE',\n",
       "       'JOB_TITLE', 'SOC_CODE', 'SOC_NAME', 'NAICS_CODE', 'TOTAL_WORKERS',\n",
       "       'NEW_EMPLOYMENT', 'CONTINUED_EMPLOYMENT', 'CHANGE_PREVIOUS_EMPLOYMENT',\n",
       "       'NEW_CONCURRENT_EMPLOYMENT', 'CHANGE_EMPLOYER', 'AMENDED_PETITION',\n",
       "       'FULL_TIME_POSITION', 'PREVAILING_WAGE', 'PW_UNIT_OF_PAY',\n",
       "       'PW_WAGE_LEVEL', 'PW_SOURCE', 'PW_SOURCE_YEAR', 'PW_SOURCE_OTHER',\n",
       "       'WAGE_RATE_OF_PAY_FROM', 'WAGE_RATE_OF_PAY_TO', 'WAGE_UNIT_OF_PAY',\n",
       "       'H1B_DEPENDENT', 'WILLFUL_VIOLATOR', 'SUPPORT_H1B', 'LABOR_CON_AGREE',\n",
       "       'PUBLIC_DISCLOSURE_LOCATION', 'WORKSITE_CITY', 'WORKSITE_COUNTY',\n",
       "       'WORKSITE_STATE', 'WORKSITE_POSTAL_CODE', 'ORIGINAL_CERT_DATE'],\n",
       "      dtype='object')"
      ]
     },
     "execution_count": 6,
     "metadata": {},
     "output_type": "execute_result"
    }
   ],
   "source": [
    "df1.columns"
   ]
  },
  {
   "cell_type": "code",
   "execution_count": 7,
   "metadata": {},
   "outputs": [],
   "source": [
    "#Recover only necesary columns\n",
    "df1_reduced = df1[['EMPLOYER_NAME', 'JOB_TITLE', 'SOC_NAME', 'FULL_TIME_POSITION', \\\n",
    "                   'PREVAILING_WAGE', 'PW_UNIT_OF_PAY', 'WAGE_RATE_OF_PAY_FROM', \\\n",
    "                   'WAGE_RATE_OF_PAY_TO', 'WAGE_UNIT_OF_PAY', 'WORKSITE_CITY', \\\n",
    "                   'WORKSITE_COUNTY', 'WORKSITE_STATE', 'WORKSITE_POSTAL_CODE']]"
   ]
  },
  {
   "cell_type": "code",
   "execution_count": 8,
   "metadata": {},
   "outputs": [
    {
     "data": {
      "text/html": [
       "<div>\n",
       "<style scoped>\n",
       "    .dataframe tbody tr th:only-of-type {\n",
       "        vertical-align: middle;\n",
       "    }\n",
       "\n",
       "    .dataframe tbody tr th {\n",
       "        vertical-align: top;\n",
       "    }\n",
       "\n",
       "    .dataframe thead th {\n",
       "        text-align: right;\n",
       "    }\n",
       "</style>\n",
       "<table border=\"1\" class=\"dataframe\">\n",
       "  <thead>\n",
       "    <tr style=\"text-align: right;\">\n",
       "      <th></th>\n",
       "      <th>employer</th>\n",
       "      <th>job_title</th>\n",
       "      <th>occupational_name</th>\n",
       "      <th>full_time</th>\n",
       "      <th>prevailing_wage</th>\n",
       "      <th>pw_wage_period</th>\n",
       "      <th>employer_wage</th>\n",
       "      <th>employer_max_wage</th>\n",
       "      <th>employer_wage_period</th>\n",
       "      <th>city</th>\n",
       "      <th>county</th>\n",
       "      <th>state</th>\n",
       "      <th>postal_code</th>\n",
       "    </tr>\n",
       "  </thead>\n",
       "  <tbody>\n",
       "    <tr>\n",
       "      <th>0</th>\n",
       "      <td>DISCOVER PRODUCTS INC.</td>\n",
       "      <td>ASSOCIATE DATA INTEGRATION</td>\n",
       "      <td>COMPUTER SYSTEMS ANALYSTS</td>\n",
       "      <td>Y</td>\n",
       "      <td>59197.0</td>\n",
       "      <td>Year</td>\n",
       "      <td>65811.0</td>\n",
       "      <td>67320.0</td>\n",
       "      <td>Year</td>\n",
       "      <td>RIVERWOODS</td>\n",
       "      <td>LAKE</td>\n",
       "      <td>IL</td>\n",
       "      <td>60015</td>\n",
       "    </tr>\n",
       "    <tr>\n",
       "      <th>1</th>\n",
       "      <td>DFS SERVICES LLC</td>\n",
       "      <td>SENIOR ASSOCIATE</td>\n",
       "      <td>OPERATIONS RESEARCH ANALYSTS</td>\n",
       "      <td>Y</td>\n",
       "      <td>49800.0</td>\n",
       "      <td>Year</td>\n",
       "      <td>53000.0</td>\n",
       "      <td>57200.0</td>\n",
       "      <td>Year</td>\n",
       "      <td>RIVERWOODS</td>\n",
       "      <td>LAKE</td>\n",
       "      <td>IL</td>\n",
       "      <td>60015</td>\n",
       "    </tr>\n",
       "    <tr>\n",
       "      <th>2</th>\n",
       "      <td>EASTBANC TECHNOLOGIES LLC</td>\n",
       "      <td>.NET SOFTWARE PROGRAMMER</td>\n",
       "      <td>COMPUTER PROGRAMMERS</td>\n",
       "      <td>Y</td>\n",
       "      <td>76502.0</td>\n",
       "      <td>Year</td>\n",
       "      <td>77000.0</td>\n",
       "      <td>0.0</td>\n",
       "      <td>Year</td>\n",
       "      <td>WASHINGTON</td>\n",
       "      <td>NaN</td>\n",
       "      <td>DC</td>\n",
       "      <td>20007</td>\n",
       "    </tr>\n",
       "    <tr>\n",
       "      <th>3</th>\n",
       "      <td>INFO SERVICES LLC</td>\n",
       "      <td>PROJECT MANAGER</td>\n",
       "      <td>COMPUTER OCCUPATIONS, ALL OTHER</td>\n",
       "      <td>Y</td>\n",
       "      <td>90376.0</td>\n",
       "      <td>Year</td>\n",
       "      <td>102000.0</td>\n",
       "      <td>0.0</td>\n",
       "      <td>Year</td>\n",
       "      <td>JERSEY CITY</td>\n",
       "      <td>HUDSON</td>\n",
       "      <td>NJ</td>\n",
       "      <td>07302</td>\n",
       "    </tr>\n",
       "    <tr>\n",
       "      <th>4</th>\n",
       "      <td>BB&amp;T CORPORATION</td>\n",
       "      <td>ASSOCIATE - ESOTERIC ASSET BACKED SECURITIES</td>\n",
       "      <td>CREDIT ANALYSTS</td>\n",
       "      <td>Y</td>\n",
       "      <td>116605.0</td>\n",
       "      <td>Year</td>\n",
       "      <td>132500.0</td>\n",
       "      <td>0.0</td>\n",
       "      <td>Year</td>\n",
       "      <td>NEW YORK</td>\n",
       "      <td>NEW YORK</td>\n",
       "      <td>NY</td>\n",
       "      <td>10036</td>\n",
       "    </tr>\n",
       "  </tbody>\n",
       "</table>\n",
       "</div>"
      ],
      "text/plain": [
       "                    employer                                     job_title  \\\n",
       "0     DISCOVER PRODUCTS INC.                    ASSOCIATE DATA INTEGRATION   \n",
       "1           DFS SERVICES LLC                              SENIOR ASSOCIATE   \n",
       "2  EASTBANC TECHNOLOGIES LLC                      .NET SOFTWARE PROGRAMMER   \n",
       "3          INFO SERVICES LLC                               PROJECT MANAGER   \n",
       "4           BB&T CORPORATION  ASSOCIATE - ESOTERIC ASSET BACKED SECURITIES   \n",
       "\n",
       "                 occupational_name full_time  prevailing_wage pw_wage_period  \\\n",
       "0        COMPUTER SYSTEMS ANALYSTS         Y          59197.0           Year   \n",
       "1     OPERATIONS RESEARCH ANALYSTS         Y          49800.0           Year   \n",
       "2             COMPUTER PROGRAMMERS         Y          76502.0           Year   \n",
       "3  COMPUTER OCCUPATIONS, ALL OTHER         Y          90376.0           Year   \n",
       "4                  CREDIT ANALYSTS         Y         116605.0           Year   \n",
       "\n",
       "   employer_wage  employer_max_wage employer_wage_period         city  \\\n",
       "0        65811.0            67320.0                 Year   RIVERWOODS   \n",
       "1        53000.0            57200.0                 Year   RIVERWOODS   \n",
       "2        77000.0                0.0                 Year   WASHINGTON   \n",
       "3       102000.0                0.0                 Year  JERSEY CITY   \n",
       "4       132500.0                0.0                 Year     NEW YORK   \n",
       "\n",
       "     county state postal_code  \n",
       "0      LAKE    IL       60015  \n",
       "1      LAKE    IL       60015  \n",
       "2       NaN    DC       20007  \n",
       "3    HUDSON    NJ       07302  \n",
       "4  NEW YORK    NY       10036  "
      ]
     },
     "execution_count": 8,
     "metadata": {},
     "output_type": "execute_result"
    }
   ],
   "source": [
    "#Rename columns to meaningful and easier names\n",
    "df1_reduced.columns = ['employer', 'job_title', 'occupational_name', 'full_time', \\\n",
    "                       'prevailing_wage', 'pw_wage_period', 'employer_wage', \\\n",
    "                       'employer_max_wage', 'employer_wage_period', 'city', \\\n",
    "                       'county', 'state', 'postal_code']\n",
    "df1_reduced.head()"
   ]
  },
  {
   "cell_type": "code",
   "execution_count": 9,
   "metadata": {},
   "outputs": [
    {
     "name": "stdout",
     "output_type": "stream",
     "text": [
      "<class 'pandas.core.frame.DataFrame'>\n",
      "RangeIndex: 624650 entries, 0 to 624649\n",
      "Data columns (total 13 columns):\n",
      "employer                624594 non-null object\n",
      "job_title               624645 non-null object\n",
      "occupational_name       624647 non-null object\n",
      "full_time               624645 non-null object\n",
      "prevailing_wage         624649 non-null float64\n",
      "pw_wage_period          624604 non-null object\n",
      "employer_wage           624650 non-null float64\n",
      "employer_max_wage       624649 non-null float64\n",
      "employer_wage_period    624642 non-null object\n",
      "city                    624637 non-null object\n",
      "county                  623471 non-null object\n",
      "state                   624641 non-null object\n",
      "postal_code             624631 non-null object\n",
      "dtypes: float64(3), object(10)\n",
      "memory usage: 62.0+ MB\n"
     ]
    }
   ],
   "source": [
    "df1_reduced.info()"
   ]
  },
  {
   "cell_type": "code",
   "execution_count": 10,
   "metadata": {},
   "outputs": [],
   "source": [
    "#Drop rows with null values and reset index\n",
    "df_drop = df1_reduced.dropna(axis=0, how='any').reset_index(drop=True)"
   ]
  },
  {
   "cell_type": "code",
   "execution_count": 11,
   "metadata": {},
   "outputs": [
    {
     "name": "stdout",
     "output_type": "stream",
     "text": [
      "<class 'pandas.core.frame.DataFrame'>\n",
      "RangeIndex: 623342 entries, 0 to 623341\n",
      "Data columns (total 13 columns):\n",
      "employer                623342 non-null object\n",
      "job_title               623342 non-null object\n",
      "occupational_name       623342 non-null object\n",
      "full_time               623342 non-null object\n",
      "prevailing_wage         623342 non-null float64\n",
      "pw_wage_period          623342 non-null object\n",
      "employer_wage           623342 non-null float64\n",
      "employer_max_wage       623342 non-null float64\n",
      "employer_wage_period    623342 non-null object\n",
      "city                    623342 non-null object\n",
      "county                  623342 non-null object\n",
      "state                   623342 non-null object\n",
      "postal_code             623342 non-null object\n",
      "dtypes: float64(3), object(10)\n",
      "memory usage: 61.8+ MB\n"
     ]
    }
   ],
   "source": [
    "df_drop.info()"
   ]
  },
  {
   "cell_type": "code",
   "execution_count": 12,
   "metadata": {},
   "outputs": [
    {
     "data": {
      "text/html": [
       "<div>\n",
       "<style scoped>\n",
       "    .dataframe tbody tr th:only-of-type {\n",
       "        vertical-align: middle;\n",
       "    }\n",
       "\n",
       "    .dataframe tbody tr th {\n",
       "        vertical-align: top;\n",
       "    }\n",
       "\n",
       "    .dataframe thead th {\n",
       "        text-align: right;\n",
       "    }\n",
       "</style>\n",
       "<table border=\"1\" class=\"dataframe\">\n",
       "  <thead>\n",
       "    <tr style=\"text-align: right;\">\n",
       "      <th></th>\n",
       "      <th>employer</th>\n",
       "      <th>job_title</th>\n",
       "      <th>occupational_name</th>\n",
       "      <th>full_time</th>\n",
       "      <th>prevailing_wage</th>\n",
       "      <th>pw_wage_period</th>\n",
       "      <th>employer_wage</th>\n",
       "      <th>employer_max_wage</th>\n",
       "      <th>employer_wage_period</th>\n",
       "      <th>city</th>\n",
       "      <th>county</th>\n",
       "      <th>state</th>\n",
       "      <th>postal_code</th>\n",
       "    </tr>\n",
       "  </thead>\n",
       "  <tbody>\n",
       "    <tr>\n",
       "      <th>0</th>\n",
       "      <td>DISCOVER PRODUCTS INC.</td>\n",
       "      <td>ASSOCIATE DATA INTEGRATION</td>\n",
       "      <td>COMPUTER SYSTEMS ANALYSTS</td>\n",
       "      <td>Y</td>\n",
       "      <td>59197.0</td>\n",
       "      <td>Year</td>\n",
       "      <td>65811.0</td>\n",
       "      <td>67320.0</td>\n",
       "      <td>Year</td>\n",
       "      <td>RIVERWOODS</td>\n",
       "      <td>LAKE</td>\n",
       "      <td>IL</td>\n",
       "      <td>60015</td>\n",
       "    </tr>\n",
       "    <tr>\n",
       "      <th>1</th>\n",
       "      <td>DFS SERVICES LLC</td>\n",
       "      <td>SENIOR ASSOCIATE</td>\n",
       "      <td>OPERATIONS RESEARCH ANALYSTS</td>\n",
       "      <td>Y</td>\n",
       "      <td>49800.0</td>\n",
       "      <td>Year</td>\n",
       "      <td>53000.0</td>\n",
       "      <td>57200.0</td>\n",
       "      <td>Year</td>\n",
       "      <td>RIVERWOODS</td>\n",
       "      <td>LAKE</td>\n",
       "      <td>IL</td>\n",
       "      <td>60015</td>\n",
       "    </tr>\n",
       "    <tr>\n",
       "      <th>2</th>\n",
       "      <td>INFO SERVICES LLC</td>\n",
       "      <td>PROJECT MANAGER</td>\n",
       "      <td>COMPUTER OCCUPATIONS, ALL OTHER</td>\n",
       "      <td>Y</td>\n",
       "      <td>90376.0</td>\n",
       "      <td>Year</td>\n",
       "      <td>102000.0</td>\n",
       "      <td>0.0</td>\n",
       "      <td>Year</td>\n",
       "      <td>JERSEY CITY</td>\n",
       "      <td>HUDSON</td>\n",
       "      <td>NJ</td>\n",
       "      <td>07302</td>\n",
       "    </tr>\n",
       "    <tr>\n",
       "      <th>3</th>\n",
       "      <td>BB&amp;T CORPORATION</td>\n",
       "      <td>ASSOCIATE - ESOTERIC ASSET BACKED SECURITIES</td>\n",
       "      <td>CREDIT ANALYSTS</td>\n",
       "      <td>Y</td>\n",
       "      <td>116605.0</td>\n",
       "      <td>Year</td>\n",
       "      <td>132500.0</td>\n",
       "      <td>0.0</td>\n",
       "      <td>Year</td>\n",
       "      <td>NEW YORK</td>\n",
       "      <td>NEW YORK</td>\n",
       "      <td>NY</td>\n",
       "      <td>10036</td>\n",
       "    </tr>\n",
       "    <tr>\n",
       "      <th>4</th>\n",
       "      <td>SUNTRUST BANKS, INC.</td>\n",
       "      <td>CREDIT RISK METRICS SPECIALIST</td>\n",
       "      <td>FINANCIAL SPECIALISTS, ALL OTHER</td>\n",
       "      <td>Y</td>\n",
       "      <td>59405.0</td>\n",
       "      <td>Year</td>\n",
       "      <td>71750.0</td>\n",
       "      <td>0.0</td>\n",
       "      <td>Year</td>\n",
       "      <td>ATLANTA</td>\n",
       "      <td>FULTON</td>\n",
       "      <td>GA</td>\n",
       "      <td>30303</td>\n",
       "    </tr>\n",
       "  </tbody>\n",
       "</table>\n",
       "</div>"
      ],
      "text/plain": [
       "                 employer                                     job_title  \\\n",
       "0  DISCOVER PRODUCTS INC.                    ASSOCIATE DATA INTEGRATION   \n",
       "1        DFS SERVICES LLC                              SENIOR ASSOCIATE   \n",
       "2       INFO SERVICES LLC                               PROJECT MANAGER   \n",
       "3        BB&T CORPORATION  ASSOCIATE - ESOTERIC ASSET BACKED SECURITIES   \n",
       "4    SUNTRUST BANKS, INC.                CREDIT RISK METRICS SPECIALIST   \n",
       "\n",
       "                  occupational_name full_time  prevailing_wage pw_wage_period  \\\n",
       "0         COMPUTER SYSTEMS ANALYSTS         Y          59197.0           Year   \n",
       "1      OPERATIONS RESEARCH ANALYSTS         Y          49800.0           Year   \n",
       "2   COMPUTER OCCUPATIONS, ALL OTHER         Y          90376.0           Year   \n",
       "3                   CREDIT ANALYSTS         Y         116605.0           Year   \n",
       "4  FINANCIAL SPECIALISTS, ALL OTHER         Y          59405.0           Year   \n",
       "\n",
       "   employer_wage  employer_max_wage employer_wage_period         city  \\\n",
       "0        65811.0            67320.0                 Year   RIVERWOODS   \n",
       "1        53000.0            57200.0                 Year   RIVERWOODS   \n",
       "2       102000.0                0.0                 Year  JERSEY CITY   \n",
       "3       132500.0                0.0                 Year     NEW YORK   \n",
       "4        71750.0                0.0                 Year      ATLANTA   \n",
       "\n",
       "     county state postal_code  \n",
       "0      LAKE    IL       60015  \n",
       "1      LAKE    IL       60015  \n",
       "2    HUDSON    NJ       07302  \n",
       "3  NEW YORK    NY       10036  \n",
       "4    FULTON    GA       30303  "
      ]
     },
     "execution_count": 12,
     "metadata": {},
     "output_type": "execute_result"
    }
   ],
   "source": [
    "df_drop.head()"
   ]
  },
  {
   "cell_type": "code",
   "execution_count": 13,
   "metadata": {},
   "outputs": [],
   "source": [
    "#Cleaning column postal_code\n",
    "i=0\n",
    "to_drop = []\n",
    "for code in df_drop.postal_code:\n",
    "    # Rows with only letters in the postal code to drop\n",
    "    if re.match('[A-Z]', code):\n",
    "        #print(code, data.iloc[i, 4], data.iloc[i, 5], data.iloc[i, 6])\n",
    "        to_drop.append(i)\n",
    "    elif len(code) > 5:\n",
    "        # Keep only first 5 digits of postal code\n",
    "        # Codes can be in 9 digit format with or without '-'\n",
    "        # or with special character after 5th digit\n",
    "        if re.match('[0-9]{5}\\S+', code):\n",
    "            df_drop.iloc[i, -1] = code[:5]\n",
    "        # Keep only 5 digits when postal_code starts with special characters\n",
    "        elif re.match('\\S+[0-9]{5}', code):\n",
    "            df_drop.iloc[i, -1] = code[-5:]\n",
    "        # Eliminate space after 5th character    \n",
    "        elif re.match('[0-9]{5} *', code):\n",
    "            df_drop.iloc[i, -1] = code[:5]\n",
    "        else:\n",
    "            to_drop.append(i)\n",
    "    elif len(code) < 5:\n",
    "        to_drop.append(i)\n",
    "    elif re.match(' [0-9]{4}', code):\n",
    "        to_drop.append(i)\n",
    "    i += 1\n",
    "df_drop = df_drop.drop(to_drop).reset_index(drop=True)"
   ]
  },
  {
   "cell_type": "code",
   "execution_count": 17,
   "metadata": {},
   "outputs": [
    {
     "data": {
      "text/html": [
       "<div>\n",
       "<style scoped>\n",
       "    .dataframe tbody tr th:only-of-type {\n",
       "        vertical-align: middle;\n",
       "    }\n",
       "\n",
       "    .dataframe tbody tr th {\n",
       "        vertical-align: top;\n",
       "    }\n",
       "\n",
       "    .dataframe thead th {\n",
       "        text-align: right;\n",
       "    }\n",
       "</style>\n",
       "<table border=\"1\" class=\"dataframe\">\n",
       "  <thead>\n",
       "    <tr style=\"text-align: right;\">\n",
       "      <th></th>\n",
       "      <th>employer</th>\n",
       "      <th>job_title</th>\n",
       "      <th>occupational_name</th>\n",
       "      <th>full_time</th>\n",
       "      <th>prevailing_wage</th>\n",
       "      <th>pw_wage_period</th>\n",
       "      <th>employer_wage</th>\n",
       "      <th>employer_max_wage</th>\n",
       "      <th>employer_wage_period</th>\n",
       "      <th>city</th>\n",
       "      <th>county</th>\n",
       "      <th>state</th>\n",
       "      <th>postal_code</th>\n",
       "    </tr>\n",
       "  </thead>\n",
       "  <tbody>\n",
       "    <tr>\n",
       "      <th>0</th>\n",
       "      <td>DISCOVER PRODUCTS INC.</td>\n",
       "      <td>ASSOCIATE DATA INTEGRATION</td>\n",
       "      <td>COMPUTER SYSTEMS ANALYSTS</td>\n",
       "      <td>Y</td>\n",
       "      <td>59197.0</td>\n",
       "      <td>Year</td>\n",
       "      <td>65811.0</td>\n",
       "      <td>67320.0</td>\n",
       "      <td>Year</td>\n",
       "      <td>RIVERWOODS</td>\n",
       "      <td>LAKE</td>\n",
       "      <td>IL</td>\n",
       "      <td>60015</td>\n",
       "    </tr>\n",
       "    <tr>\n",
       "      <th>1</th>\n",
       "      <td>DFS SERVICES LLC</td>\n",
       "      <td>SENIOR ASSOCIATE</td>\n",
       "      <td>OPERATIONS RESEARCH ANALYSTS</td>\n",
       "      <td>Y</td>\n",
       "      <td>49800.0</td>\n",
       "      <td>Year</td>\n",
       "      <td>53000.0</td>\n",
       "      <td>57200.0</td>\n",
       "      <td>Year</td>\n",
       "      <td>RIVERWOODS</td>\n",
       "      <td>LAKE</td>\n",
       "      <td>IL</td>\n",
       "      <td>60015</td>\n",
       "    </tr>\n",
       "    <tr>\n",
       "      <th>2</th>\n",
       "      <td>INFO SERVICES LLC</td>\n",
       "      <td>PROJECT MANAGER</td>\n",
       "      <td>COMPUTER OCCUPATIONS, ALL OTHER</td>\n",
       "      <td>Y</td>\n",
       "      <td>90376.0</td>\n",
       "      <td>Year</td>\n",
       "      <td>102000.0</td>\n",
       "      <td>0.0</td>\n",
       "      <td>Year</td>\n",
       "      <td>JERSEY CITY</td>\n",
       "      <td>HUDSON</td>\n",
       "      <td>NJ</td>\n",
       "      <td>07302</td>\n",
       "    </tr>\n",
       "    <tr>\n",
       "      <th>3</th>\n",
       "      <td>BB&amp;T CORPORATION</td>\n",
       "      <td>ASSOCIATE - ESOTERIC ASSET BACKED SECURITIES</td>\n",
       "      <td>CREDIT ANALYSTS</td>\n",
       "      <td>Y</td>\n",
       "      <td>116605.0</td>\n",
       "      <td>Year</td>\n",
       "      <td>132500.0</td>\n",
       "      <td>0.0</td>\n",
       "      <td>Year</td>\n",
       "      <td>NEW YORK</td>\n",
       "      <td>NEW YORK</td>\n",
       "      <td>NY</td>\n",
       "      <td>10036</td>\n",
       "    </tr>\n",
       "    <tr>\n",
       "      <th>4</th>\n",
       "      <td>SUNTRUST BANKS, INC.</td>\n",
       "      <td>CREDIT RISK METRICS SPECIALIST</td>\n",
       "      <td>FINANCIAL SPECIALISTS, ALL OTHER</td>\n",
       "      <td>Y</td>\n",
       "      <td>59405.0</td>\n",
       "      <td>Year</td>\n",
       "      <td>71750.0</td>\n",
       "      <td>0.0</td>\n",
       "      <td>Year</td>\n",
       "      <td>ATLANTA</td>\n",
       "      <td>FULTON</td>\n",
       "      <td>GA</td>\n",
       "      <td>30303</td>\n",
       "    </tr>\n",
       "  </tbody>\n",
       "</table>\n",
       "</div>"
      ],
      "text/plain": [
       "                 employer                                     job_title  \\\n",
       "0  DISCOVER PRODUCTS INC.                    ASSOCIATE DATA INTEGRATION   \n",
       "1        DFS SERVICES LLC                              SENIOR ASSOCIATE   \n",
       "2       INFO SERVICES LLC                               PROJECT MANAGER   \n",
       "3        BB&T CORPORATION  ASSOCIATE - ESOTERIC ASSET BACKED SECURITIES   \n",
       "4    SUNTRUST BANKS, INC.                CREDIT RISK METRICS SPECIALIST   \n",
       "\n",
       "                  occupational_name full_time  prevailing_wage pw_wage_period  \\\n",
       "0         COMPUTER SYSTEMS ANALYSTS         Y          59197.0           Year   \n",
       "1      OPERATIONS RESEARCH ANALYSTS         Y          49800.0           Year   \n",
       "2   COMPUTER OCCUPATIONS, ALL OTHER         Y          90376.0           Year   \n",
       "3                   CREDIT ANALYSTS         Y         116605.0           Year   \n",
       "4  FINANCIAL SPECIALISTS, ALL OTHER         Y          59405.0           Year   \n",
       "\n",
       "   employer_wage  employer_max_wage employer_wage_period         city  \\\n",
       "0        65811.0            67320.0                 Year   RIVERWOODS   \n",
       "1        53000.0            57200.0                 Year   RIVERWOODS   \n",
       "2       102000.0                0.0                 Year  JERSEY CITY   \n",
       "3       132500.0                0.0                 Year     NEW YORK   \n",
       "4        71750.0                0.0                 Year      ATLANTA   \n",
       "\n",
       "     county state postal_code  \n",
       "0      LAKE    IL       60015  \n",
       "1      LAKE    IL       60015  \n",
       "2    HUDSON    NJ       07302  \n",
       "3  NEW YORK    NY       10036  \n",
       "4    FULTON    GA       30303  "
      ]
     },
     "execution_count": 17,
     "metadata": {},
     "output_type": "execute_result"
    }
   ],
   "source": [
    "df_drop.head()"
   ]
  },
  {
   "cell_type": "code",
   "execution_count": 18,
   "metadata": {},
   "outputs": [
    {
     "name": "stdout",
     "output_type": "stream",
     "text": [
      "<class 'pandas.core.frame.DataFrame'>\n",
      "RangeIndex: 622833 entries, 0 to 622832\n",
      "Data columns (total 13 columns):\n",
      "employer                622833 non-null object\n",
      "job_title               622833 non-null object\n",
      "occupational_name       622833 non-null object\n",
      "full_time               622833 non-null object\n",
      "prevailing_wage         622833 non-null float64\n",
      "pw_wage_period          622833 non-null object\n",
      "employer_wage           622833 non-null float64\n",
      "employer_max_wage       622833 non-null float64\n",
      "employer_wage_period    622833 non-null object\n",
      "city                    622833 non-null object\n",
      "county                  622833 non-null object\n",
      "state                   622833 non-null object\n",
      "postal_code             622833 non-null object\n",
      "dtypes: float64(3), object(10)\n",
      "memory usage: 61.8+ MB\n"
     ]
    }
   ],
   "source": [
    "df_drop.info()"
   ]
  },
  {
   "cell_type": "code",
   "execution_count": 19,
   "metadata": {},
   "outputs": [
    {
     "data": {
      "text/plain": [
       "array(['Y', 'N'], dtype=object)"
      ]
     },
     "execution_count": 19,
     "metadata": {},
     "output_type": "execute_result"
    }
   ],
   "source": [
    "#Possible values for column full_time\n",
    "df_drop.full_time.unique()"
   ]
  },
  {
   "cell_type": "code",
   "execution_count": 20,
   "metadata": {},
   "outputs": [
    {
     "name": "stdout",
     "output_type": "stream",
     "text": [
      "Number of non full time job applications: 13837\n",
      "Total number of job applications: 622833\n"
     ]
    }
   ],
   "source": [
    "#Total rows corresponding to no full time jobs\n",
    "no_full = len(df_drop[df_drop.full_time == 'N'])\n",
    "total_jobs = len(df_drop)\n",
    "print('Number of non full time job applications: {}'.format(no_full))\n",
    "print('Total number of job applications: {}'.format(total_jobs))"
   ]
  },
  {
   "cell_type": "code",
   "execution_count": 21,
   "metadata": {},
   "outputs": [
    {
     "name": "stdout",
     "output_type": "stream",
     "text": [
      "No full time jobs corresponds to 2.22% of the total lines in the data frame\n"
     ]
    }
   ],
   "source": [
    "print('No full time jobs corresponds to {:.3}% of the total lines in the data frame'.format(no_full/total_jobs*100))"
   ]
  },
  {
   "cell_type": "code",
   "execution_count": 25,
   "metadata": {},
   "outputs": [
    {
     "data": {
      "text/plain": [
       "Hour    13823\n",
       "Name: pw_wage_period, dtype: int64"
      ]
     },
     "execution_count": 25,
     "metadata": {},
     "output_type": "execute_result"
    }
   ],
   "source": [
    "#Preveailing wage period distribution for non yearly salaries\n",
    "df_drop.pw_wage_period[df_drop.full_time == 'N'].value_counts()"
   ]
  },
  {
   "cell_type": "code",
   "execution_count": 26,
   "metadata": {},
   "outputs": [],
   "source": [
    "#There are only 14 rows with Year value for wage_period, we drop them \n",
    "#and for the others later we are going to\n",
    "#calculate a yearly salary based on their hourly salary\n",
    "drop_list = df_drop[(df_drop.full_time == 'N') & \\\n",
    "                                (df_drop.pw_wage_period == 'Year')].index\n",
    "df_drop = df_drop.drop(drop_list)"
   ]
  },
  {
   "cell_type": "code",
   "execution_count": 27,
   "metadata": {},
   "outputs": [
    {
     "data": {
      "text/plain": [
       "0"
      ]
     },
     "execution_count": 27,
     "metadata": {},
     "output_type": "execute_result"
    }
   ],
   "source": [
    "# Mean wage period distribution for non yearly salaries\n",
    "len(df_drop.employer_wage_period[df_drop.employer_wage_period == 'N'].value_counts())"
   ]
  },
  {
   "cell_type": "code",
   "execution_count": 28,
   "metadata": {},
   "outputs": [
    {
     "data": {
      "text/plain": [
       "622819"
      ]
     },
     "execution_count": 28,
     "metadata": {},
     "output_type": "execute_result"
    }
   ],
   "source": [
    "len(df_drop)"
   ]
  },
  {
   "cell_type": "code",
   "execution_count": 29,
   "metadata": {},
   "outputs": [
    {
     "data": {
      "text/plain": [
       "Hour         13778\n",
       "Year            34\n",
       "Week             6\n",
       "Month            4\n",
       "Bi-Weekly        1\n",
       "Name: employer_wage_period, dtype: int64"
      ]
     },
     "execution_count": 29,
     "metadata": {},
     "output_type": "execute_result"
    }
   ],
   "source": [
    "# Employer proposed wage period distribution for non yearly salaries\n",
    "df_drop.employer_wage_period[df_drop.full_time == 'N'].value_counts()"
   ]
  },
  {
   "cell_type": "code",
   "execution_count": 30,
   "metadata": {},
   "outputs": [],
   "source": [
    "#There are only 14 rows with Year value for wage_period, we drop them \n",
    "#and for the others later we are going to\n",
    "#calculate a yearly salary based on their hourly salary\n",
    "drop_list = df_drop[(df_drop.full_time == 'N') & \\\n",
    "                                (df_drop.employer_wage_period == 'Year')].index\n",
    "df_drop = df_drop.drop(drop_list)"
   ]
  },
  {
   "cell_type": "code",
   "execution_count": 31,
   "metadata": {},
   "outputs": [
    {
     "data": {
      "text/plain": [
       "622785"
      ]
     },
     "execution_count": 31,
     "metadata": {},
     "output_type": "execute_result"
    }
   ],
   "source": [
    "len(df_drop)"
   ]
  },
  {
   "cell_type": "code",
   "execution_count": 32,
   "metadata": {},
   "outputs": [
    {
     "data": {
      "text/plain": [
       "array(['Year', 'Hour', 'Month', 'Week', 'Bi-Weekly'], dtype=object)"
      ]
     },
     "execution_count": 32,
     "metadata": {},
     "output_type": "execute_result"
    }
   ],
   "source": [
    "#Possible values for wage_period\n",
    "df_drop.pw_wage_period.unique()"
   ]
  },
  {
   "cell_type": "code",
   "execution_count": 33,
   "metadata": {},
   "outputs": [
    {
     "name": "stdout",
     "output_type": "stream",
     "text": [
      "<class 'pandas.core.frame.DataFrame'>\n",
      "Int64Index: 622785 entries, 0 to 622832\n",
      "Data columns (total 13 columns):\n",
      "employer                622785 non-null object\n",
      "job_title               622785 non-null category\n",
      "occupational_name       622785 non-null category\n",
      "full_time               622785 non-null category\n",
      "prevailing_wage         622785 non-null float64\n",
      "pw_wage_period          622785 non-null category\n",
      "employer_wage           622785 non-null float64\n",
      "employer_max_wage       622785 non-null float64\n",
      "employer_wage_period    622785 non-null category\n",
      "city                    622785 non-null object\n",
      "county                  622785 non-null object\n",
      "state                   622785 non-null category\n",
      "postal_code             622785 non-null category\n",
      "dtypes: category(7), float64(3), object(3)\n",
      "memory usage: 44.4+ MB\n"
     ]
    }
   ],
   "source": [
    "#Change some columns to category type to save memory\n",
    "for col in ['job_title', 'occupational_name', 'full_time', \\\n",
    "            'pw_wage_period', 'employer_wage_period', 'state', 'postal_code']:\n",
    "    df_drop[col] = df_drop[col].astype('category')\n",
    "\n",
    "df_drop.info()"
   ]
  },
  {
   "cell_type": "code",
   "execution_count": 34,
   "metadata": {},
   "outputs": [
    {
     "data": {
      "text/html": [
       "<div>\n",
       "<style scoped>\n",
       "    .dataframe tbody tr th:only-of-type {\n",
       "        vertical-align: middle;\n",
       "    }\n",
       "\n",
       "    .dataframe tbody tr th {\n",
       "        vertical-align: top;\n",
       "    }\n",
       "\n",
       "    .dataframe thead th {\n",
       "        text-align: right;\n",
       "    }\n",
       "</style>\n",
       "<table border=\"1\" class=\"dataframe\">\n",
       "  <thead>\n",
       "    <tr style=\"text-align: right;\">\n",
       "      <th></th>\n",
       "      <th>employer</th>\n",
       "      <th>job_title</th>\n",
       "      <th>occupational_name</th>\n",
       "      <th>full_time</th>\n",
       "      <th>prevailing_wage</th>\n",
       "      <th>pw_wage_period</th>\n",
       "      <th>employer_wage</th>\n",
       "      <th>employer_max_wage</th>\n",
       "      <th>employer_wage_period</th>\n",
       "      <th>city</th>\n",
       "      <th>county</th>\n",
       "      <th>state</th>\n",
       "      <th>postal_code</th>\n",
       "    </tr>\n",
       "  </thead>\n",
       "  <tbody>\n",
       "    <tr>\n",
       "      <th>0</th>\n",
       "      <td>DISCOVER PRODUCTS INC.</td>\n",
       "      <td>ASSOCIATE DATA INTEGRATION</td>\n",
       "      <td>COMPUTER SYSTEMS ANALYSTS</td>\n",
       "      <td>Y</td>\n",
       "      <td>59197.0</td>\n",
       "      <td>Year</td>\n",
       "      <td>65811.0</td>\n",
       "      <td>67320.0</td>\n",
       "      <td>Year</td>\n",
       "      <td>RIVERWOODS</td>\n",
       "      <td>LAKE</td>\n",
       "      <td>IL</td>\n",
       "      <td>60015</td>\n",
       "    </tr>\n",
       "    <tr>\n",
       "      <th>1</th>\n",
       "      <td>DFS SERVICES LLC</td>\n",
       "      <td>SENIOR ASSOCIATE</td>\n",
       "      <td>OPERATIONS RESEARCH ANALYSTS</td>\n",
       "      <td>Y</td>\n",
       "      <td>49800.0</td>\n",
       "      <td>Year</td>\n",
       "      <td>53000.0</td>\n",
       "      <td>57200.0</td>\n",
       "      <td>Year</td>\n",
       "      <td>RIVERWOODS</td>\n",
       "      <td>LAKE</td>\n",
       "      <td>IL</td>\n",
       "      <td>60015</td>\n",
       "    </tr>\n",
       "    <tr>\n",
       "      <th>2</th>\n",
       "      <td>INFO SERVICES LLC</td>\n",
       "      <td>PROJECT MANAGER</td>\n",
       "      <td>COMPUTER OCCUPATIONS, ALL OTHER</td>\n",
       "      <td>Y</td>\n",
       "      <td>90376.0</td>\n",
       "      <td>Year</td>\n",
       "      <td>102000.0</td>\n",
       "      <td>0.0</td>\n",
       "      <td>Year</td>\n",
       "      <td>JERSEY CITY</td>\n",
       "      <td>HUDSON</td>\n",
       "      <td>NJ</td>\n",
       "      <td>07302</td>\n",
       "    </tr>\n",
       "    <tr>\n",
       "      <th>3</th>\n",
       "      <td>BB&amp;T CORPORATION</td>\n",
       "      <td>ASSOCIATE - ESOTERIC ASSET BACKED SECURITIES</td>\n",
       "      <td>CREDIT ANALYSTS</td>\n",
       "      <td>Y</td>\n",
       "      <td>116605.0</td>\n",
       "      <td>Year</td>\n",
       "      <td>132500.0</td>\n",
       "      <td>0.0</td>\n",
       "      <td>Year</td>\n",
       "      <td>NEW YORK</td>\n",
       "      <td>NEW YORK</td>\n",
       "      <td>NY</td>\n",
       "      <td>10036</td>\n",
       "    </tr>\n",
       "    <tr>\n",
       "      <th>4</th>\n",
       "      <td>SUNTRUST BANKS, INC.</td>\n",
       "      <td>CREDIT RISK METRICS SPECIALIST</td>\n",
       "      <td>FINANCIAL SPECIALISTS, ALL OTHER</td>\n",
       "      <td>Y</td>\n",
       "      <td>59405.0</td>\n",
       "      <td>Year</td>\n",
       "      <td>71750.0</td>\n",
       "      <td>0.0</td>\n",
       "      <td>Year</td>\n",
       "      <td>ATLANTA</td>\n",
       "      <td>FULTON</td>\n",
       "      <td>GA</td>\n",
       "      <td>30303</td>\n",
       "    </tr>\n",
       "  </tbody>\n",
       "</table>\n",
       "</div>"
      ],
      "text/plain": [
       "                 employer                                     job_title  \\\n",
       "0  DISCOVER PRODUCTS INC.                    ASSOCIATE DATA INTEGRATION   \n",
       "1        DFS SERVICES LLC                              SENIOR ASSOCIATE   \n",
       "2       INFO SERVICES LLC                               PROJECT MANAGER   \n",
       "3        BB&T CORPORATION  ASSOCIATE - ESOTERIC ASSET BACKED SECURITIES   \n",
       "4    SUNTRUST BANKS, INC.                CREDIT RISK METRICS SPECIALIST   \n",
       "\n",
       "                  occupational_name full_time  prevailing_wage pw_wage_period  \\\n",
       "0         COMPUTER SYSTEMS ANALYSTS         Y          59197.0           Year   \n",
       "1      OPERATIONS RESEARCH ANALYSTS         Y          49800.0           Year   \n",
       "2   COMPUTER OCCUPATIONS, ALL OTHER         Y          90376.0           Year   \n",
       "3                   CREDIT ANALYSTS         Y         116605.0           Year   \n",
       "4  FINANCIAL SPECIALISTS, ALL OTHER         Y          59405.0           Year   \n",
       "\n",
       "   employer_wage  employer_max_wage employer_wage_period         city  \\\n",
       "0        65811.0            67320.0                 Year   RIVERWOODS   \n",
       "1        53000.0            57200.0                 Year   RIVERWOODS   \n",
       "2       102000.0                0.0                 Year  JERSEY CITY   \n",
       "3       132500.0                0.0                 Year     NEW YORK   \n",
       "4        71750.0                0.0                 Year      ATLANTA   \n",
       "\n",
       "     county state postal_code  \n",
       "0      LAKE    IL       60015  \n",
       "1      LAKE    IL       60015  \n",
       "2    HUDSON    NJ       07302  \n",
       "3  NEW YORK    NY       10036  \n",
       "4    FULTON    GA       30303  "
      ]
     },
     "execution_count": 34,
     "metadata": {},
     "output_type": "execute_result"
    }
   ],
   "source": [
    "df_drop.head()"
   ]
  },
  {
   "cell_type": "code",
   "execution_count": 35,
   "metadata": {},
   "outputs": [
    {
     "data": {
      "text/html": [
       "<div>\n",
       "<style scoped>\n",
       "    .dataframe tbody tr th:only-of-type {\n",
       "        vertical-align: middle;\n",
       "    }\n",
       "\n",
       "    .dataframe tbody tr th {\n",
       "        vertical-align: top;\n",
       "    }\n",
       "\n",
       "    .dataframe thead th {\n",
       "        text-align: right;\n",
       "    }\n",
       "</style>\n",
       "<table border=\"1\" class=\"dataframe\">\n",
       "  <thead>\n",
       "    <tr style=\"text-align: right;\">\n",
       "      <th></th>\n",
       "      <th>prevailing_wage</th>\n",
       "      <th>employer_wage</th>\n",
       "      <th>employer_max_wage</th>\n",
       "    </tr>\n",
       "  </thead>\n",
       "  <tbody>\n",
       "    <tr>\n",
       "      <th>count</th>\n",
       "      <td>6.227850e+05</td>\n",
       "      <td>6.227850e+05</td>\n",
       "      <td>6.227850e+05</td>\n",
       "    </tr>\n",
       "    <tr>\n",
       "      <th>mean</th>\n",
       "      <td>7.324763e+04</td>\n",
       "      <td>8.288962e+04</td>\n",
       "      <td>2.412337e+04</td>\n",
       "    </tr>\n",
       "    <tr>\n",
       "      <th>std</th>\n",
       "      <td>2.577794e+05</td>\n",
       "      <td>4.265591e+04</td>\n",
       "      <td>5.253233e+04</td>\n",
       "    </tr>\n",
       "    <tr>\n",
       "      <th>min</th>\n",
       "      <td>0.000000e+00</td>\n",
       "      <td>0.000000e+00</td>\n",
       "      <td>0.000000e+00</td>\n",
       "    </tr>\n",
       "    <tr>\n",
       "      <th>25%</th>\n",
       "      <td>5.686700e+04</td>\n",
       "      <td>6.300000e+04</td>\n",
       "      <td>0.000000e+00</td>\n",
       "    </tr>\n",
       "    <tr>\n",
       "      <th>50%</th>\n",
       "      <td>7.022100e+04</td>\n",
       "      <td>7.600000e+04</td>\n",
       "      <td>0.000000e+00</td>\n",
       "    </tr>\n",
       "    <tr>\n",
       "      <th>75%</th>\n",
       "      <td>8.919000e+04</td>\n",
       "      <td>1.000000e+05</td>\n",
       "      <td>0.000000e+00</td>\n",
       "    </tr>\n",
       "    <tr>\n",
       "      <th>max</th>\n",
       "      <td>2.016227e+08</td>\n",
       "      <td>1.688000e+06</td>\n",
       "      <td>3.000000e+06</td>\n",
       "    </tr>\n",
       "  </tbody>\n",
       "</table>\n",
       "</div>"
      ],
      "text/plain": [
       "       prevailing_wage  employer_wage  employer_max_wage\n",
       "count     6.227850e+05   6.227850e+05       6.227850e+05\n",
       "mean      7.324763e+04   8.288962e+04       2.412337e+04\n",
       "std       2.577794e+05   4.265591e+04       5.253233e+04\n",
       "min       0.000000e+00   0.000000e+00       0.000000e+00\n",
       "25%       5.686700e+04   6.300000e+04       0.000000e+00\n",
       "50%       7.022100e+04   7.600000e+04       0.000000e+00\n",
       "75%       8.919000e+04   1.000000e+05       0.000000e+00\n",
       "max       2.016227e+08   1.688000e+06       3.000000e+06"
      ]
     },
     "execution_count": 35,
     "metadata": {},
     "output_type": "execute_result"
    }
   ],
   "source": [
    "df_drop.describe()"
   ]
  },
  {
   "cell_type": "code",
   "execution_count": 36,
   "metadata": {},
   "outputs": [
    {
     "data": {
      "text/plain": [
       "10"
      ]
     },
     "execution_count": 36,
     "metadata": {},
     "output_type": "execute_result"
    }
   ],
   "source": [
    "#Check how many rows have a zero value\n",
    "len(df_drop[df_drop.prevailing_wage == 0])"
   ]
  },
  {
   "cell_type": "code",
   "execution_count": 37,
   "metadata": {},
   "outputs": [
    {
     "data": {
      "text/plain": [
       "2"
      ]
     },
     "execution_count": 37,
     "metadata": {},
     "output_type": "execute_result"
    }
   ],
   "source": [
    "#Check how many rows have a zero value\n",
    "len(df_drop[df_drop.employer_wage == 0])"
   ]
  },
  {
   "cell_type": "code",
   "execution_count": 38,
   "metadata": {},
   "outputs": [
    {
     "data": {
      "text/plain": [
       "10"
      ]
     },
     "execution_count": 38,
     "metadata": {},
     "output_type": "execute_result"
    }
   ],
   "source": [
    "#Check how many rows have a zero value\n",
    "len(df_drop[df_drop.prevailing_wage == 0])"
   ]
  },
  {
   "cell_type": "code",
   "execution_count": 39,
   "metadata": {},
   "outputs": [
    {
     "data": {
      "text/html": [
       "<div>\n",
       "<style scoped>\n",
       "    .dataframe tbody tr th:only-of-type {\n",
       "        vertical-align: middle;\n",
       "    }\n",
       "\n",
       "    .dataframe tbody tr th {\n",
       "        vertical-align: top;\n",
       "    }\n",
       "\n",
       "    .dataframe thead th {\n",
       "        text-align: right;\n",
       "    }\n",
       "</style>\n",
       "<table border=\"1\" class=\"dataframe\">\n",
       "  <thead>\n",
       "    <tr style=\"text-align: right;\">\n",
       "      <th></th>\n",
       "      <th>prevailing_wage</th>\n",
       "      <th>employer_wage</th>\n",
       "      <th>employer_max_wage</th>\n",
       "    </tr>\n",
       "  </thead>\n",
       "  <tbody>\n",
       "    <tr>\n",
       "      <th>count</th>\n",
       "      <td>6.227740e+05</td>\n",
       "      <td>6.227740e+05</td>\n",
       "      <td>6.227740e+05</td>\n",
       "    </tr>\n",
       "    <tr>\n",
       "      <th>mean</th>\n",
       "      <td>7.324882e+04</td>\n",
       "      <td>8.289059e+04</td>\n",
       "      <td>2.412356e+04</td>\n",
       "    </tr>\n",
       "    <tr>\n",
       "      <th>std</th>\n",
       "      <td>2.577815e+05</td>\n",
       "      <td>4.265540e+04</td>\n",
       "      <td>5.253264e+04</td>\n",
       "    </tr>\n",
       "    <tr>\n",
       "      <th>min</th>\n",
       "      <td>7.250000e+00</td>\n",
       "      <td>7.250000e+00</td>\n",
       "      <td>0.000000e+00</td>\n",
       "    </tr>\n",
       "    <tr>\n",
       "      <th>25%</th>\n",
       "      <td>5.686700e+04</td>\n",
       "      <td>6.300000e+04</td>\n",
       "      <td>0.000000e+00</td>\n",
       "    </tr>\n",
       "    <tr>\n",
       "      <th>50%</th>\n",
       "      <td>7.022100e+04</td>\n",
       "      <td>7.600000e+04</td>\n",
       "      <td>0.000000e+00</td>\n",
       "    </tr>\n",
       "    <tr>\n",
       "      <th>75%</th>\n",
       "      <td>8.919000e+04</td>\n",
       "      <td>1.000000e+05</td>\n",
       "      <td>0.000000e+00</td>\n",
       "    </tr>\n",
       "    <tr>\n",
       "      <th>max</th>\n",
       "      <td>2.016227e+08</td>\n",
       "      <td>1.688000e+06</td>\n",
       "      <td>3.000000e+06</td>\n",
       "    </tr>\n",
       "  </tbody>\n",
       "</table>\n",
       "</div>"
      ],
      "text/plain": [
       "       prevailing_wage  employer_wage  employer_max_wage\n",
       "count     6.227740e+05   6.227740e+05       6.227740e+05\n",
       "mean      7.324882e+04   8.289059e+04       2.412356e+04\n",
       "std       2.577815e+05   4.265540e+04       5.253264e+04\n",
       "min       7.250000e+00   7.250000e+00       0.000000e+00\n",
       "25%       5.686700e+04   6.300000e+04       0.000000e+00\n",
       "50%       7.022100e+04   7.600000e+04       0.000000e+00\n",
       "75%       8.919000e+04   1.000000e+05       0.000000e+00\n",
       "max       2.016227e+08   1.688000e+06       3.000000e+06"
      ]
     },
     "execution_count": 39,
     "metadata": {},
     "output_type": "execute_result"
    }
   ],
   "source": [
    "#Drop rows with zero value for prevailing_wage\n",
    "df_drop = df_drop[(df_drop.prevailing_wage > 0) & (df_drop.employer_wage > 0)]\n",
    "df_drop.describe()"
   ]
  },
  {
   "cell_type": "code",
   "execution_count": 40,
   "metadata": {},
   "outputs": [],
   "source": [
    "#Function to change non annual salaries to yearly salaries\n",
    "def pw_annual_salary(row):\n",
    "    if row.pw_wage_period == 'Year': return row.prevailing_wage\n",
    "    if row.pw_wage_period == 'Month': return row.prevailing_wage * 12\n",
    "    if row.pw_wage_period == 'Bi-Weekly': return row.prevailing_wage * 26\n",
    "    if row.pw_wage_period == 'Week': return row.prevailing_wage * 52\n",
    "    if row.pw_wage_period == 'Hour': return row.prevailing_wage * 2080\n",
    "    \n",
    "def employer_annual_salary(row):\n",
    "    if row.employer_wage_period == 'Year': return row.employer_wage\n",
    "    if row.employer_wage_period == 'Month': return row.employer_wage * 12\n",
    "    if row.employer_wage_period == 'Bi-Weekly': return row.employer_wage * 26\n",
    "    if row.employer_wage_period == 'Week': return row.employer_wage * 52\n",
    "    if row.employer_wage_period == 'Hour': return row.employer_wage * 2080"
   ]
  },
  {
   "cell_type": "code",
   "execution_count": 41,
   "metadata": {},
   "outputs": [],
   "source": [
    "#Convert all salaries to yearly salaries in data frame using \n",
    "#the function annual_salary\n",
    "df_drop.prevailing_wage = df_drop.apply(pw_annual_salary, axis = 1)\n",
    "df_drop.employer_wage = df_drop.apply(employer_annual_salary, axis = 1)"
   ]
  },
  {
   "cell_type": "code",
   "execution_count": 42,
   "metadata": {},
   "outputs": [],
   "source": [
    "#Dropfull_time column from data frame\n",
    "df_drop = df_drop.drop(['full_time'], axis=1)"
   ]
  },
  {
   "cell_type": "code",
   "execution_count": 43,
   "metadata": {},
   "outputs": [
    {
     "data": {
      "text/html": [
       "<div>\n",
       "<style scoped>\n",
       "    .dataframe tbody tr th:only-of-type {\n",
       "        vertical-align: middle;\n",
       "    }\n",
       "\n",
       "    .dataframe tbody tr th {\n",
       "        vertical-align: top;\n",
       "    }\n",
       "\n",
       "    .dataframe thead th {\n",
       "        text-align: right;\n",
       "    }\n",
       "</style>\n",
       "<table border=\"1\" class=\"dataframe\">\n",
       "  <thead>\n",
       "    <tr style=\"text-align: right;\">\n",
       "      <th></th>\n",
       "      <th>prevailing_wage</th>\n",
       "      <th>employer_wage</th>\n",
       "      <th>employer_max_wage</th>\n",
       "    </tr>\n",
       "  </thead>\n",
       "  <tbody>\n",
       "    <tr>\n",
       "      <th>count</th>\n",
       "      <td>6.227740e+05</td>\n",
       "      <td>6.227740e+05</td>\n",
       "      <td>6.227740e+05</td>\n",
       "    </tr>\n",
       "    <tr>\n",
       "      <th>mean</th>\n",
       "      <td>9.971644e+04</td>\n",
       "      <td>1.047550e+05</td>\n",
       "      <td>2.412356e+04</td>\n",
       "    </tr>\n",
       "    <tr>\n",
       "      <th>std</th>\n",
       "      <td>1.811747e+06</td>\n",
       "      <td>1.809883e+06</td>\n",
       "      <td>5.253264e+04</td>\n",
       "    </tr>\n",
       "    <tr>\n",
       "      <th>min</th>\n",
       "      <td>2.558000e+01</td>\n",
       "      <td>1.500000e+04</td>\n",
       "      <td>0.000000e+00</td>\n",
       "    </tr>\n",
       "    <tr>\n",
       "      <th>25%</th>\n",
       "      <td>5.953000e+04</td>\n",
       "      <td>6.500000e+04</td>\n",
       "      <td>0.000000e+00</td>\n",
       "    </tr>\n",
       "    <tr>\n",
       "      <th>50%</th>\n",
       "      <td>7.178100e+04</td>\n",
       "      <td>7.785000e+04</td>\n",
       "      <td>0.000000e+00</td>\n",
       "    </tr>\n",
       "    <tr>\n",
       "      <th>75%</th>\n",
       "      <td>9.035500e+04</td>\n",
       "      <td>1.000000e+05</td>\n",
       "      <td>0.000000e+00</td>\n",
       "    </tr>\n",
       "    <tr>\n",
       "      <th>max</th>\n",
       "      <td>4.013610e+08</td>\n",
       "      <td>3.120000e+08</td>\n",
       "      <td>3.000000e+06</td>\n",
       "    </tr>\n",
       "  </tbody>\n",
       "</table>\n",
       "</div>"
      ],
      "text/plain": [
       "       prevailing_wage  employer_wage  employer_max_wage\n",
       "count     6.227740e+05   6.227740e+05       6.227740e+05\n",
       "mean      9.971644e+04   1.047550e+05       2.412356e+04\n",
       "std       1.811747e+06   1.809883e+06       5.253264e+04\n",
       "min       2.558000e+01   1.500000e+04       0.000000e+00\n",
       "25%       5.953000e+04   6.500000e+04       0.000000e+00\n",
       "50%       7.178100e+04   7.785000e+04       0.000000e+00\n",
       "75%       9.035500e+04   1.000000e+05       0.000000e+00\n",
       "max       4.013610e+08   3.120000e+08       3.000000e+06"
      ]
     },
     "execution_count": 43,
     "metadata": {},
     "output_type": "execute_result"
    }
   ],
   "source": [
    "df_drop.describe()"
   ]
  },
  {
   "cell_type": "code",
   "execution_count": 44,
   "metadata": {},
   "outputs": [
    {
     "name": "stdout",
     "output_type": "stream",
     "text": [
      "There are 127 rows with a salary greater than $1 million\n"
     ]
    }
   ],
   "source": [
    "#Salaries greater than 5 milllion a year can be considered as \n",
    "#input errors\n",
    "print('There are {} rows with a salary greater than \\\n",
    "$1 million'.format(len(df_drop[df_drop.prevailing_wage > 1e+06])))"
   ]
  },
  {
   "cell_type": "code",
   "execution_count": 45,
   "metadata": {},
   "outputs": [
    {
     "name": "stdout",
     "output_type": "stream",
     "text": [
      "There are 86 rows with a salary greater than $1 million\n"
     ]
    }
   ],
   "source": [
    "#Salaries greater than 5 milllion a year can be considered as \n",
    "#input errors\n",
    "print('There are {} rows with a salary greater than \\\n",
    "$1 million'.format(len(df_drop[df_drop.employer_wage > 1e+06])))"
   ]
  },
  {
   "cell_type": "code",
   "execution_count": 46,
   "metadata": {},
   "outputs": [],
   "source": [
    "# #We are going to ignore those lines\n",
    "# df_drop = df_drop[df_drop.prevailing_wage < 1e+06]\n",
    "# df_drop.describe()"
   ]
  },
  {
   "cell_type": "code",
   "execution_count": 47,
   "metadata": {},
   "outputs": [
    {
     "name": "stdout",
     "output_type": "stream",
     "text": [
      "There are 1 rows with a prevealing wage annual salary smaller than $15000\n",
      "There are 0 rows with an employer proposed annual salary smaller than $15000\n"
     ]
    }
   ],
   "source": [
    "print('There are {} rows with a prevealing wage annual salary smaller than \\\n",
    "$15000'.format(len(df_drop[df_drop.prevailing_wage < 15000])))\n",
    "print('There are {} rows with an employer proposed annual salary smaller than \\\n",
    "$15000'.format(len(df_drop[df_drop.employer_wage < 15000])))"
   ]
  },
  {
   "cell_type": "code",
   "execution_count": 48,
   "metadata": {},
   "outputs": [
    {
     "data": {
      "text/html": [
       "<div>\n",
       "<style scoped>\n",
       "    .dataframe tbody tr th:only-of-type {\n",
       "        vertical-align: middle;\n",
       "    }\n",
       "\n",
       "    .dataframe tbody tr th {\n",
       "        vertical-align: top;\n",
       "    }\n",
       "\n",
       "    .dataframe thead th {\n",
       "        text-align: right;\n",
       "    }\n",
       "</style>\n",
       "<table border=\"1\" class=\"dataframe\">\n",
       "  <thead>\n",
       "    <tr style=\"text-align: right;\">\n",
       "      <th></th>\n",
       "      <th>prevailing_wage</th>\n",
       "      <th>employer_wage</th>\n",
       "      <th>employer_max_wage</th>\n",
       "    </tr>\n",
       "  </thead>\n",
       "  <tbody>\n",
       "    <tr>\n",
       "      <th>count</th>\n",
       "      <td>6.227730e+05</td>\n",
       "      <td>6.227730e+05</td>\n",
       "      <td>6.227730e+05</td>\n",
       "    </tr>\n",
       "    <tr>\n",
       "      <th>mean</th>\n",
       "      <td>9.971660e+04</td>\n",
       "      <td>1.047551e+05</td>\n",
       "      <td>2.412360e+04</td>\n",
       "    </tr>\n",
       "    <tr>\n",
       "      <th>std</th>\n",
       "      <td>1.811748e+06</td>\n",
       "      <td>1.809885e+06</td>\n",
       "      <td>5.253267e+04</td>\n",
       "    </tr>\n",
       "    <tr>\n",
       "      <th>min</th>\n",
       "      <td>1.508000e+04</td>\n",
       "      <td>1.500000e+04</td>\n",
       "      <td>0.000000e+00</td>\n",
       "    </tr>\n",
       "    <tr>\n",
       "      <th>25%</th>\n",
       "      <td>5.953000e+04</td>\n",
       "      <td>6.500000e+04</td>\n",
       "      <td>0.000000e+00</td>\n",
       "    </tr>\n",
       "    <tr>\n",
       "      <th>50%</th>\n",
       "      <td>7.178100e+04</td>\n",
       "      <td>7.785000e+04</td>\n",
       "      <td>0.000000e+00</td>\n",
       "    </tr>\n",
       "    <tr>\n",
       "      <th>75%</th>\n",
       "      <td>9.035500e+04</td>\n",
       "      <td>1.000000e+05</td>\n",
       "      <td>0.000000e+00</td>\n",
       "    </tr>\n",
       "    <tr>\n",
       "      <th>max</th>\n",
       "      <td>4.013610e+08</td>\n",
       "      <td>3.120000e+08</td>\n",
       "      <td>3.000000e+06</td>\n",
       "    </tr>\n",
       "  </tbody>\n",
       "</table>\n",
       "</div>"
      ],
      "text/plain": [
       "       prevailing_wage  employer_wage  employer_max_wage\n",
       "count     6.227730e+05   6.227730e+05       6.227730e+05\n",
       "mean      9.971660e+04   1.047551e+05       2.412360e+04\n",
       "std       1.811748e+06   1.809885e+06       5.253267e+04\n",
       "min       1.508000e+04   1.500000e+04       0.000000e+00\n",
       "25%       5.953000e+04   6.500000e+04       0.000000e+00\n",
       "50%       7.178100e+04   7.785000e+04       0.000000e+00\n",
       "75%       9.035500e+04   1.000000e+05       0.000000e+00\n",
       "max       4.013610e+08   3.120000e+08       3.000000e+06"
      ]
     },
     "execution_count": 48,
     "metadata": {},
     "output_type": "execute_result"
    }
   ],
   "source": [
    "#We drop that line\n",
    "df_drop = df_drop[df_drop.prevailing_wage > 15000]\n",
    "df_drop.describe()"
   ]
  },
  {
   "cell_type": "code",
   "execution_count": 49,
   "metadata": {},
   "outputs": [
    {
     "data": {
      "image/png": "[encoded data removed]",
      "text/plain": [
       "<matplotlib.figure.Figure at 0x7f65424bdd68>"
      ]
     },
     "metadata": {},
     "output_type": "display_data"
    }
   ],
   "source": [
    "sns.boxplot(data=df_drop)\n",
    "plt.show()"
   ]
  },
  {
   "cell_type": "code",
   "execution_count": 50,
   "metadata": {},
   "outputs": [
    {
     "name": "stdout",
     "output_type": "stream",
     "text": [
      "There are 184 rows with a salary greater than $300000\n"
     ]
    }
   ],
   "source": [
    "print('There are {} rows with a salary greater than \\\n",
    "$300000'.format(len(df_drop[df_drop.prevailing_wage > 300000])))"
   ]
  },
  {
   "cell_type": "code",
   "execution_count": 51,
   "metadata": {},
   "outputs": [
    {
     "data": {
      "image/png": "[encoded data removed]",
      "text/plain": [
       "<matplotlib.figure.Figure at 0x7f654235a128>"
      ]
     },
     "metadata": {},
     "output_type": "display_data"
    }
   ],
   "source": [
    "sns.boxplot(y='prevailing_wage', \\\n",
    "            data=df_drop[df_drop.prevailing_wage < 300000])\n",
    "plt.show()"
   ]
  },
  {
   "cell_type": "code",
   "execution_count": 52,
   "metadata": {},
   "outputs": [
    {
     "data": {
      "image/png": "[encoded data removed]",
      "text/plain": [
       "<matplotlib.figure.Figure at 0x7f6542380eb8>"
      ]
     },
     "metadata": {},
     "output_type": "display_data"
    }
   ],
   "source": [
    "sns.boxplot(y='employer_wage', \\\n",
    "            data=df_drop[df_drop.employer_wage < 300000])\n",
    "plt.show()"
   ]
  },
  {
   "cell_type": "code",
   "execution_count": 53,
   "metadata": {},
   "outputs": [],
   "source": [
    "df_clean = df_drop.reset_index(drop=True)"
   ]
  },
  {
   "cell_type": "code",
   "execution_count": 54,
   "metadata": {},
   "outputs": [
    {
     "name": "stdout",
     "output_type": "stream",
     "text": [
      "<class 'pandas.core.frame.DataFrame'>\n",
      "RangeIndex: 622773 entries, 0 to 622772\n",
      "Data columns (total 12 columns):\n",
      "employer                622773 non-null object\n",
      "job_title               622773 non-null category\n",
      "occupational_name       622773 non-null category\n",
      "prevailing_wage         622773 non-null float64\n",
      "pw_wage_period          622773 non-null category\n",
      "employer_wage           622773 non-null float64\n",
      "employer_max_wage       622773 non-null float64\n",
      "employer_wage_period    622773 non-null category\n",
      "city                    622773 non-null object\n",
      "county                  622773 non-null object\n",
      "state                   622773 non-null category\n",
      "postal_code             622773 non-null category\n",
      "dtypes: category(6), float64(3), object(3)\n",
      "memory usage: 39.0+ MB\n"
     ]
    }
   ],
   "source": [
    "df_clean.info()"
   ]
  },
  {
   "cell_type": "code",
   "execution_count": 55,
   "metadata": {},
   "outputs": [
    {
     "data": {
      "text/html": [
       "<div>\n",
       "<style scoped>\n",
       "    .dataframe tbody tr th:only-of-type {\n",
       "        vertical-align: middle;\n",
       "    }\n",
       "\n",
       "    .dataframe tbody tr th {\n",
       "        vertical-align: top;\n",
       "    }\n",
       "\n",
       "    .dataframe thead th {\n",
       "        text-align: right;\n",
       "    }\n",
       "</style>\n",
       "<table border=\"1\" class=\"dataframe\">\n",
       "  <thead>\n",
       "    <tr style=\"text-align: right;\">\n",
       "      <th></th>\n",
       "      <th>employer</th>\n",
       "      <th>job_title</th>\n",
       "      <th>occupational_name</th>\n",
       "      <th>prevailing_wage</th>\n",
       "      <th>pw_wage_period</th>\n",
       "      <th>employer_wage</th>\n",
       "      <th>employer_max_wage</th>\n",
       "      <th>employer_wage_period</th>\n",
       "      <th>city</th>\n",
       "      <th>county</th>\n",
       "      <th>state</th>\n",
       "      <th>postal_code</th>\n",
       "    </tr>\n",
       "  </thead>\n",
       "  <tbody>\n",
       "    <tr>\n",
       "      <th>0</th>\n",
       "      <td>DISCOVER PRODUCTS INC.</td>\n",
       "      <td>ASSOCIATE DATA INTEGRATION</td>\n",
       "      <td>COMPUTER SYSTEMS ANALYSTS</td>\n",
       "      <td>59197.0</td>\n",
       "      <td>Year</td>\n",
       "      <td>65811.0</td>\n",
       "      <td>67320.0</td>\n",
       "      <td>Year</td>\n",
       "      <td>RIVERWOODS</td>\n",
       "      <td>LAKE</td>\n",
       "      <td>IL</td>\n",
       "      <td>60015</td>\n",
       "    </tr>\n",
       "    <tr>\n",
       "      <th>1</th>\n",
       "      <td>DFS SERVICES LLC</td>\n",
       "      <td>SENIOR ASSOCIATE</td>\n",
       "      <td>OPERATIONS RESEARCH ANALYSTS</td>\n",
       "      <td>49800.0</td>\n",
       "      <td>Year</td>\n",
       "      <td>53000.0</td>\n",
       "      <td>57200.0</td>\n",
       "      <td>Year</td>\n",
       "      <td>RIVERWOODS</td>\n",
       "      <td>LAKE</td>\n",
       "      <td>IL</td>\n",
       "      <td>60015</td>\n",
       "    </tr>\n",
       "    <tr>\n",
       "      <th>2</th>\n",
       "      <td>INFO SERVICES LLC</td>\n",
       "      <td>PROJECT MANAGER</td>\n",
       "      <td>COMPUTER OCCUPATIONS, ALL OTHER</td>\n",
       "      <td>90376.0</td>\n",
       "      <td>Year</td>\n",
       "      <td>102000.0</td>\n",
       "      <td>0.0</td>\n",
       "      <td>Year</td>\n",
       "      <td>JERSEY CITY</td>\n",
       "      <td>HUDSON</td>\n",
       "      <td>NJ</td>\n",
       "      <td>07302</td>\n",
       "    </tr>\n",
       "    <tr>\n",
       "      <th>3</th>\n",
       "      <td>BB&amp;T CORPORATION</td>\n",
       "      <td>ASSOCIATE - ESOTERIC ASSET BACKED SECURITIES</td>\n",
       "      <td>CREDIT ANALYSTS</td>\n",
       "      <td>116605.0</td>\n",
       "      <td>Year</td>\n",
       "      <td>132500.0</td>\n",
       "      <td>0.0</td>\n",
       "      <td>Year</td>\n",
       "      <td>NEW YORK</td>\n",
       "      <td>NEW YORK</td>\n",
       "      <td>NY</td>\n",
       "      <td>10036</td>\n",
       "    </tr>\n",
       "    <tr>\n",
       "      <th>4</th>\n",
       "      <td>SUNTRUST BANKS, INC.</td>\n",
       "      <td>CREDIT RISK METRICS SPECIALIST</td>\n",
       "      <td>FINANCIAL SPECIALISTS, ALL OTHER</td>\n",
       "      <td>59405.0</td>\n",
       "      <td>Year</td>\n",
       "      <td>71750.0</td>\n",
       "      <td>0.0</td>\n",
       "      <td>Year</td>\n",
       "      <td>ATLANTA</td>\n",
       "      <td>FULTON</td>\n",
       "      <td>GA</td>\n",
       "      <td>30303</td>\n",
       "    </tr>\n",
       "  </tbody>\n",
       "</table>\n",
       "</div>"
      ],
      "text/plain": [
       "                 employer                                     job_title  \\\n",
       "0  DISCOVER PRODUCTS INC.                    ASSOCIATE DATA INTEGRATION   \n",
       "1        DFS SERVICES LLC                              SENIOR ASSOCIATE   \n",
       "2       INFO SERVICES LLC                               PROJECT MANAGER   \n",
       "3        BB&T CORPORATION  ASSOCIATE - ESOTERIC ASSET BACKED SECURITIES   \n",
       "4    SUNTRUST BANKS, INC.                CREDIT RISK METRICS SPECIALIST   \n",
       "\n",
       "                  occupational_name  prevailing_wage pw_wage_period  \\\n",
       "0         COMPUTER SYSTEMS ANALYSTS          59197.0           Year   \n",
       "1      OPERATIONS RESEARCH ANALYSTS          49800.0           Year   \n",
       "2   COMPUTER OCCUPATIONS, ALL OTHER          90376.0           Year   \n",
       "3                   CREDIT ANALYSTS         116605.0           Year   \n",
       "4  FINANCIAL SPECIALISTS, ALL OTHER          59405.0           Year   \n",
       "\n",
       "   employer_wage  employer_max_wage employer_wage_period         city  \\\n",
       "0        65811.0            67320.0                 Year   RIVERWOODS   \n",
       "1        53000.0            57200.0                 Year   RIVERWOODS   \n",
       "2       102000.0                0.0                 Year  JERSEY CITY   \n",
       "3       132500.0                0.0                 Year     NEW YORK   \n",
       "4        71750.0                0.0                 Year      ATLANTA   \n",
       "\n",
       "     county state postal_code  \n",
       "0      LAKE    IL       60015  \n",
       "1      LAKE    IL       60015  \n",
       "2    HUDSON    NJ       07302  \n",
       "3  NEW YORK    NY       10036  \n",
       "4    FULTON    GA       30303  "
      ]
     },
     "execution_count": 55,
     "metadata": {},
     "output_type": "execute_result"
    }
   ],
   "source": [
    "df_clean.head()"
   ]
  },
  {
   "cell_type": "code",
   "execution_count": 57,
   "metadata": {},
   "outputs": [],
   "source": [
    "df_clean.to_csv('./Data/H1B_2017.csv')"
   ]
  }
 ],
 "metadata": {
  "kernelspec": {
   "display_name": "Python 3",
   "language": "python",
   "name": "python3"
  },
  "language_info": {
   "codemirror_mode": {
    "name": "ipython",
    "version": 3
   },
   "file_extension": ".py",
   "mimetype": "text/x-python",
   "name": "python",
   "nbconvert_exporter": "python",
   "pygments_lexer": "ipython3",
   "version": "3.6.4"
  }
 },
 "nbformat": 4,
 "nbformat_minor": 2
}
